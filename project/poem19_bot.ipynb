{
 "cells": [
  {
   "cell_type": "code",
   "execution_count": null,
   "metadata": {},
   "outputs": [],
   "source": [
    "import telebot;\n",
    "from telebot import types\n",
    "\n",
    "bot = telebot.TeleBot('796585213:AAFxr74fff5xtU3F4tNYFdIk4aFZr9n1px8');\n",
    "word = '';\n",
    "\n",
    "@bot.message_handler(commands=['start', 'help'])\n",
    "def send_welcome(message):\n",
    "    bot.send_message(message.chat.id, \"Здравствуйте! Это бот, который пишет пирожки на основе Ваших слов.\")\n",
    "    \n",
    "@bot.message_handler(content_types=['text'])\n",
    "def start(message):\n",
    "    if message.text == '/reg':\n",
    "        bot.send_message(message.from_user.id, \"Напишите любое слово.\");\n",
    "        bot.register_next_step_handler(message, get_word); \n",
    "    else:\n",
    "        bot.send_message(message.from_user.id, 'Напишите /reg');\n",
    "\n",
    "def get_word(message): #получаем фамилию\n",
    "    global word;\n",
    "    word = message.text;\n",
    "    bot.send_message(message.from_user.id, 'Спасибо! Сейчас я составлю стих.');\n",
    "    bot.register_next_step_handler(message, );\n",
    "    \n",
    "bot.polling(none_stop=True, interval=0)\n",
    "\n",
    "if __name__ == '__main__':\n",
    "    import os\n",
    "    app.debug = True\n",
    "    port = int(os.environ.get(\"PORT\", 5000))\n",
    "    app.run(host='0.0.0.0', port=port)\n",
    "    bot.polling(none_stop=True)"
   ]
  }
 ],
 "metadata": {
  "kernelspec": {
   "display_name": "Python 3",
   "language": "python",
   "name": "python3"
  },
  "language_info": {
   "codemirror_mode": {
    "name": "ipython",
    "version": 3
   },
   "file_extension": ".py",
   "mimetype": "text/x-python",
   "name": "python",
   "nbconvert_exporter": "python",
   "pygments_lexer": "ipython3",
   "version": "3.6.5"
  }
 },
 "nbformat": 4,
 "nbformat_minor": 2
}
